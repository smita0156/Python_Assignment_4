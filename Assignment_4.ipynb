{
 "cells": [
  {
   "cell_type": "code",
   "execution_count": null,
   "id": "455be87a-c7d8-4013-8806-ffebc73c3125",
   "metadata": {},
   "outputs": [],
   "source": []
  },
  {
   "cell_type": "code",
   "execution_count": null,
   "id": "7c2aee30-f795-4d78-9b59-affcd496885a",
   "metadata": {},
   "outputs": [],
   "source": [
    "Ans1 # : - [ ] is a empty list, like a =[ ]"
   ]
  },
  {
   "cell_type": "code",
   "execution_count": null,
   "id": "65fd1ca0-eee0-4588-8e3a-4ee922f352bb",
   "metadata": {},
   "outputs": [],
   "source": []
  },
  {
   "cell_type": "code",
   "execution_count": null,
   "id": "a0dc3325-a0a1-4ab7-b4dc-599ea6285043",
   "metadata": {},
   "outputs": [],
   "source": [
    "# solution by changing the value in index 3\n",
    "spam = [2, 4, 6, 8, 10]\n",
    "spam[2] = 'hello'\n",
    "spam"
   ]
  },
  {
   "cell_type": "code",
   "execution_count": null,
   "id": "347f9ee9-251c-4464-b02a-779fa73c7ad1",
   "metadata": {},
   "outputs": [],
   "source": [
    "[2, 4, 'hello', [2, 4, 'hello', 8, 10]\n",
    "Lets pretend the spam includes the list ['a', 'b','c','d'] for the next three queries., 10]"
   ]
  },
  {
   "cell_type": "code",
   "execution_count": null,
   "id": "98e7b2db-c8ca-4134-9715-51e501961845",
   "metadata": {},
   "outputs": [],
   "source": []
  },
  {
   "cell_type": "code",
   "execution_count": null,
   "id": "bd3105fa-039f-45ba-a481-e14c4c102412",
   "metadata": {},
   "outputs": [],
   "source": [
    "Ans3. spam = ['a', 'b','c','d']\n",
    "spam[int(int('3' * 2) / 11)] # spam[int(33/11)] = spam[3]"
   ]
  },
  {
   "cell_type": "code",
   "execution_count": null,
   "id": "b843c6ba-635c-4f73-9325-d2f98614d472",
   "metadata": {},
   "outputs": [],
   "source": [
    "'d'\n"
   ]
  },
  {
   "cell_type": "code",
   "execution_count": null,
   "id": "44a82d13-951f-4878-9502-cb8ae5cd7add",
   "metadata": {},
   "outputs": [],
   "source": []
  },
  {
   "cell_type": "code",
   "execution_count": null,
   "id": "9dc0fe22-6dfe-4156-ad5c-0b3a8e97a216",
   "metadata": {},
   "outputs": [],
   "source": [
    "Ans4. spam = ['a', 'b','c','d']\n",
    "spam[-1] # negative index # d"
   ]
  },
  {
   "cell_type": "code",
   "execution_count": null,
   "id": "17f87312-6a5a-4b1e-861c-5e68243f5cce",
   "metadata": {},
   "outputs": [],
   "source": [
    "'d'"
   ]
  },
  {
   "cell_type": "code",
   "execution_count": null,
   "id": "bec16c25-122f-483a-b5d7-d266ec01aaaf",
   "metadata": {},
   "outputs": [],
   "source": []
  },
  {
   "cell_type": "code",
   "execution_count": null,
   "id": "f35e5fe8-b3d2-447d-91cf-3f3713010a77",
   "metadata": {},
   "outputs": [],
   "source": [
    "Ans5.  spam[:2] # c\n"
   ]
  },
  {
   "cell_type": "code",
   "execution_count": null,
   "id": "1e43ca06-a77e-4a4f-a339-635dadd2eca2",
   "metadata": {},
   "outputs": [],
   "source": [
    "['['a', 'b']\n",
    "*Let's pretend bacon has the list [3.14, 'cat' 11, 'cat' True] for the next three questions.*', 'b']"
   ]
  },
  {
   "cell_type": "code",
   "execution_count": null,
   "id": "e2e5e4e4-e088-4907-92c6-3c26e486797e",
   "metadata": {},
   "outputs": [],
   "source": []
  },
  {
   "cell_type": "code",
   "execution_count": null,
   "id": "b401db0b-6d68-4af8-a6f2-620c89af0e98",
   "metadata": {},
   "outputs": [],
   "source": [
    "Ans6. bacon = [3.14, 'cat', 11, 'cat', True]\n",
    "bacon.index('cat') # it returns the index of first occurrence of 'cat'"
   ]
  },
  {
   "cell_type": "code",
   "execution_count": null,
   "id": "c10d3ca5-7105-4139-b7fc-ada5ae0fb799",
   "metadata": {},
   "outputs": [],
   "source": [
    "1\n"
   ]
  },
  {
   "cell_type": "code",
   "execution_count": null,
   "id": "eb680403-b924-4c92-990a-64a2e32af39a",
   "metadata": {},
   "outputs": [],
   "source": []
  },
  {
   "cell_type": "code",
   "execution_count": null,
   "id": "0ecaf92b-629d-4f0a-b25e-490b71e04cc4",
   "metadata": {},
   "outputs": [],
   "source": [
    "Ans7.  bacon = [3.14, 'cat', 11, 'cat', True]\n",
    "bacon.append(99) # append adds the item at the end of the list\n",
    "bacon"
   ]
  },
  {
   "cell_type": "code",
   "execution_count": null,
   "id": "10826c5e-c9c8-4beb-963d-22151c6ba11a",
   "metadata": {},
   "outputs": [],
   "source": [
    "[3.14, 'cat', 11, 'cat', True, 99]"
   ]
  },
  {
   "cell_type": "code",
   "execution_count": null,
   "id": "00d3ef3e-d5e2-4690-84ff-19913d908a55",
   "metadata": {},
   "outputs": [],
   "source": []
  },
  {
   "cell_type": "code",
   "execution_count": null,
   "id": "8cee4247-e5c8-494d-a651-77e653451bf6",
   "metadata": {},
   "outputs": [],
   "source": [
    "Ans8.  bacon = [3.14, 'cat', 11, 'cat', True]\n",
    "bacon.remove('cat') # remove first occurrence of item\n",
    "bacon"
   ]
  },
  {
   "cell_type": "code",
   "execution_count": null,
   "id": "a76cc0a3-6682-4323-81f5-93f5aaea50ac",
   "metadata": {},
   "outputs": [],
   "source": [
    "[3.14, 11, 'cat', True]"
   ]
  },
  {
   "cell_type": "code",
   "execution_count": null,
   "id": "3b371f0a-2775-4d7e-b3b0-e0871293b16a",
   "metadata": {},
   "outputs": [],
   "source": []
  },
  {
   "cell_type": "code",
   "execution_count": null,
   "id": "8376d0f3-3ac8-4581-95e4-0e05b071a9c8",
   "metadata": {},
   "outputs": [],
   "source": [
    "Ans9. # ( * ) is list replication operator ( + ) is list concatination operator"
   ]
  },
  {
   "cell_type": "code",
   "execution_count": null,
   "id": "176fe57c-3cbd-46ec-bb42-2474c42d9b13",
   "metadata": {},
   "outputs": [],
   "source": [
    "l1 = [1,4]\n",
    "l2 = [2,5]\n",
    "# list concatination\n",
    "l1+l2"
   ]
  },
  {
   "cell_type": "code",
   "execution_count": null,
   "id": "ddf3fe0a-5ff2-4528-a9c4-9604afcadf1d",
   "metadata": {},
   "outputs": [],
   "source": [
    "[1, 4, 2, 5]"
   ]
  },
  {
   "cell_type": "code",
   "execution_count": null,
   "id": "ebb6e54c-9b2a-4914-8285-41cfc4de72fe",
   "metadata": {},
   "outputs": [],
   "source": [
    "\n",
    "l1 = [7,4]\n",
    "\n",
    "# list replication\n",
    "l1*3"
   ]
  },
  {
   "cell_type": "code",
   "execution_count": null,
   "id": "e1b507c1-538a-4de8-89e8-ecd6faf1852d",
   "metadata": {},
   "outputs": [],
   "source": [
    "[7, 4, 7, 4, 7, 4]"
   ]
  },
  {
   "cell_type": "code",
   "execution_count": null,
   "id": "e969792b-7af5-478d-a3f6-c6a3eed7223a",
   "metadata": {},
   "outputs": [],
   "source": []
  },
  {
   "cell_type": "code",
   "execution_count": null,
   "id": "baf57306-eb18-4c89-acfd-45a2c23b9559",
   "metadata": {},
   "outputs": [],
   "source": [
    "Ans10. append() Appends object to the end of the list\n",
    "insert() Insert object before index"
   ]
  },
  {
   "cell_type": "code",
   "execution_count": null,
   "id": "f99c245c-6199-4f4d-9dc0-90b39eafc8fa",
   "metadata": {},
   "outputs": [],
   "source": [
    "bacon = [3.14, 'cat', 11, 'cat', True]\n",
    "bacon.append(99) # append adds the item at the end of the list\n",
    "bacon"
   ]
  },
  {
   "cell_type": "code",
   "execution_count": null,
   "id": "7ebf8a9f-cf11-4afc-b944-cfa70deb22d9",
   "metadata": {},
   "outputs": [],
   "source": [
    "[3.14, 'cat', 11, 'cat', True, 99]"
   ]
  },
  {
   "cell_type": "code",
   "execution_count": null,
   "id": "e265ea40-7e37-4f8d-846c-45b111688b18",
   "metadata": {},
   "outputs": [],
   "source": [
    "# solution by inserting value in 3rd index\n",
    "spam = [2, 4, 6, 8, 10]\n",
    "spam.insert(2,'hello')\n",
    "spam"
   ]
  },
  {
   "cell_type": "code",
   "execution_count": null,
   "id": "8469284b-cbb9-4416-a25e-ff185171b54e",
   "metadata": {},
   "outputs": [],
   "source": [
    "[2, 4, 'hello', 6, 8, 10]\n"
   ]
  },
  {
   "cell_type": "code",
   "execution_count": null,
   "id": "71e01ff4-0058-462b-babe-ffdaad149d4c",
   "metadata": {},
   "outputs": [],
   "source": []
  },
  {
   "cell_type": "code",
   "execution_count": null,
   "id": "6d988039-0367-4be8-ac76-ede93f8ce420",
   "metadata": {},
   "outputs": [],
   "source": [
    "Ans11. #remove(item) - removeds first occurence of a item\n",
    "bacon = [3.14, 'cat', 11, 'cat', True]\n",
    "bacon.remove('cat')\n",
    "bacon"
   ]
  },
  {
   "cell_type": "code",
   "execution_count": null,
   "id": "33b8611b-9a68-4d21-812d-9282defd1dd0",
   "metadata": {},
   "outputs": [],
   "source": [
    "[3.14, 11, 'cat', True]"
   ]
  },
  {
   "cell_type": "code",
   "execution_count": null,
   "id": "a971a9b2-eb16-4804-b91b-cafb96f00701",
   "metadata": {},
   "outputs": [],
   "source": [
    "#pop() - Remove and returns item at index (default last).\n",
    "bacon = [3.14, 'cat', 11, 'cat', True]\n",
    "bacon.pop()\n",
    "bacon"
   ]
  },
  {
   "cell_type": "code",
   "execution_count": null,
   "id": "d034f2a3-ffd2-4d9c-8e78-716cad1bbb9b",
   "metadata": {},
   "outputs": [],
   "source": [
    "[3.14, 'cat', 11, 'cat']\n"
   ]
  },
  {
   "cell_type": "code",
   "execution_count": null,
   "id": "e5888d80-6fcf-4faa-9de1-a7836c99bef5",
   "metadata": {},
   "outputs": [],
   "source": []
  },
  {
   "cell_type": "code",
   "execution_count": null,
   "id": "2d0e8a8a-e95f-48b9-b577-e1cd551349a2",
   "metadata": {},
   "outputs": [],
   "source": [
    "Ans12.  1. Both lists and strings can be passed to len()\n",
    "        2. Have indexes and slices\n",
    "        3. Can be used in for loops\n",
    "        4. Can be concatenated or replicated\n",
    "        5. Can be used with the in and not in operators"
   ]
  },
  {
   "cell_type": "code",
   "execution_count": null,
   "id": "8d322c2f-bcd2-4125-bb97-aedee4f4cd85",
   "metadata": {},
   "outputs": [],
   "source": []
  },
  {
   "cell_type": "code",
   "execution_count": null,
   "id": "5aa3ad9d-1fa5-4d46-895c-4b2adf39f38e",
   "metadata": {},
   "outputs": [],
   "source": [
    "Ans13. Lists : are mutable - they can have values added, removed, or changed. lists use the square brackets, [ and ]\n",
    "Tuples : are immutable; they cannot be changed at all. Tuples are written using parentheses, ( and )"
   ]
  },
  {
   "cell_type": "code",
   "execution_count": null,
   "id": "4bdc31eb-ce55-488e-ae1b-fb036bd9ec61",
   "metadata": {},
   "outputs": [],
   "source": []
  },
  {
   "cell_type": "code",
   "execution_count": null,
   "id": "7d817a0e-e0d0-4cee-a0e7-c07490b0d989",
   "metadata": {},
   "outputs": [],
   "source": [
    "Ans14. tuple = (42,)\n",
    "tuple\n",
    "     "
   ]
  },
  {
   "cell_type": "code",
   "execution_count": null,
   "id": "4bc59411-ac90-4b85-98da-06324a2ef71a",
   "metadata": {},
   "outputs": [],
   "source": [
    "(42,)"
   ]
  },
  {
   "cell_type": "code",
   "execution_count": null,
   "id": "b1f7efc1-d1f0-4a5e-a3a3-ef0abd0c9ec1",
   "metadata": {},
   "outputs": [],
   "source": []
  },
  {
   "cell_type": "code",
   "execution_count": null,
   "id": "6799a4fd-6208-46d3-893f-30a0f0a1bb28",
   "metadata": {},
   "outputs": [],
   "source": [
    "Ans15. l1 = [2,3]\n",
    "l = tuple(l1)\n",
    "l"
   ]
  },
  {
   "cell_type": "code",
   "execution_count": null,
   "id": "fc92d95a-1515-4089-8daf-c5048d7f6616",
   "metadata": {},
   "outputs": [],
   "source": [
    "(2, 3)\n"
   ]
  },
  {
   "cell_type": "code",
   "execution_count": null,
   "id": "4f0019e8-c02b-4833-adff-819eb14fb828",
   "metadata": {},
   "outputs": [],
   "source": [
    "t1 = (3,4)\n",
    "t = list(t1)\n",
    "t\n",
    "     "
   ]
  },
  {
   "cell_type": "code",
   "execution_count": null,
   "id": "a9db36fc-93cc-4203-be60-a0dea2c62aa1",
   "metadata": {},
   "outputs": [],
   "source": [
    "[3, 4]\n"
   ]
  },
  {
   "cell_type": "code",
   "execution_count": null,
   "id": "742369f4-f875-4cb8-9de6-6bceefc4cadc",
   "metadata": {},
   "outputs": [],
   "source": []
  },
  {
   "cell_type": "code",
   "execution_count": null,
   "id": "592a6dca-e51b-46e8-90fe-5e16574fc02f",
   "metadata": {},
   "outputs": [],
   "source": [
    "Ans16. # They contain references to list values"
   ]
  },
  {
   "cell_type": "code",
   "execution_count": null,
   "id": "35ca5829-a2a4-41ed-bf58-88751655a847",
   "metadata": {},
   "outputs": [],
   "source": []
  },
  {
   "cell_type": "code",
   "execution_count": null,
   "id": "a458041f-635a-4d30-ad1f-fea664d857e5",
   "metadata": {},
   "outputs": [],
   "source": [
    "Ans17. # The copy.copy() function will do a shallow copy of a list,\n",
    "The copy.deepcopy() function will do a deep copy of a list. only copy.deepcopy() will duplicate any lists inside the list"
   ]
  }
 ],
 "metadata": {
  "kernelspec": {
   "display_name": "Python 3 (ipykernel)",
   "language": "python",
   "name": "python3"
  },
  "language_info": {
   "codemirror_mode": {
    "name": "ipython",
    "version": 3
   },
   "file_extension": ".py",
   "mimetype": "text/x-python",
   "name": "python",
   "nbconvert_exporter": "python",
   "pygments_lexer": "ipython3",
   "version": "3.10.6"
  }
 },
 "nbformat": 4,
 "nbformat_minor": 5
}
